{
 "cells": [
  {
   "cell_type": "code",
   "execution_count": 221,
   "metadata": {},
   "outputs": [],
   "source": [
    "import numpy as np\n",
    "import scipy.stats\n",
    "import matplotlib.pyplot as plt\n",
    "import seaborn as sns\n",
    "\n",
    "N = scipy.stats.norm.cdf\n",
    "n = scipy.stats.norm.pdf\n",
    "sns.set_style(\"darkgrid\")\n",
    "\n",
    "np.random.seed(1)"
   ]
  },
  {
   "cell_type": "markdown",
   "metadata": {},
   "source": [
    "Laboratory Assignments:\n",
    "\n",
    "1.1: Implement delta-hedging for a simulated price trajectory and show that the cost of the hedge approaches zero as the frequency of rehedging increases to infinity.\n",
    "\n",
    "1.2: Implement delta-gamma-hedging (a chosen variant) for a simulated price trajectory. Show that the cost is lower than that of the delta-hedge. Use the following condition for the second option strike: K2>K for call and K2<K for put.\n",
    "\n",
    "1.3: Hedge funds use delta-hedging to minimize risk when trading options. Implement hedging strategies for a selected stock (APPLE, TESLA, KGHM, ASML) - use Black-Scholes formula to calculate option prices and greeks\n",
    "\n",
    "General setup:\n",
    "We sell an option (call) -> short position\n",
    "We want to hedge the risk using Δ-hedging strategy\n",
    "Remarks:\n",
    "We need to have a price trajectory -> simulate it using GBM\n",
    "We need to have the option premium at t=0 -> calculate it using the Black-Scholes price formula\n",
    "We need Δ_t at each moment of rehedging -> calculate it using the formula for Δ in the Black-Scholes setup\n",
    "The strategy outcome is random (dependent on a given price trajectory)\n",
    "Repeat the procedure many times (with different realizations of GBM) and analyse the outcome distribution (pdf, mean, etc.)\n",
    "Repeat the simulations for different rehedging frequency"
   ]
  },
  {
   "cell_type": "markdown",
   "metadata": {},
   "source": [
    "### 1.1\n",
    " Implement delta-hedging for a simulated price trajectory and show that the cost of the hedge approaches zero as the frequency of rehedging increases to infinity."
   ]
  },
  {
   "cell_type": "code",
   "execution_count": 440,
   "metadata": {},
   "outputs": [],
   "source": [
    "class GBM():\n",
    "    \n",
    "    def __init__(self, sigma, mu, S0, T=2, dt=0.01):\n",
    "        \n",
    "        self.sigma = sigma\n",
    "        self.mu = mu\n",
    "        self.S0 = S0\n",
    "        self.T = T\n",
    "        self.dt = dt \n",
    "        \n",
    "        norm = scipy.stats.norm.rvs(0, np.sqrt(dt), size = int(round(T/dt))) \n",
    "        Wt = np.cumsum(norm) #brownian motion\n",
    "        \n",
    "        self.trajectory = np.concatenate([np.array([self.S0]), self.S0*np.exp((mu-(self.sigma**2)/2)*np.arange(dt, T, step=dt) + self.sigma*Wt[:-1])])\n",
    "        \n",
    "    def plot(self):\n",
    "        \n",
    "        plt.plot(np.arange(self.T, step = self.dt), self.trajectory)\n",
    "        plt.xlabel(\"t\")\n",
    "        plt.ylabel(\"S(t)\")\n",
    "        plt.show()\n",
    "        \n",
    "        \n",
    "class Option():\n",
    "    \n",
    "    def __init__(self, K, brownian_motion, option_type):\n",
    "        \n",
    "        self.K = K\n",
    "        self.brownian_motion = brownian_motion  \n",
    "        self.r = self.brownian_motion.mu \n",
    "        self.option_type = option_type\n",
    "        \n",
    "    def d1(self, t):\n",
    "        return (np.log(self.brownian_motion.trajectory[int(round(t/self.brownian_motion.dt))]/self.K) + (self.r + (self.brownian_motion.sigma)**2/2)*(self.brownian_motion.T - t)) / (self.brownian_motion.sigma*np.sqrt(self.brownian_motion.T - t))\n",
    "     \n",
    "    def d2(self, t):\n",
    "        return self.d1(t) - self.brownian_motion.sigma * np.sqrt(self.brownian_motion.T - t)       \n",
    "        \n",
    "    def price_option(self, t=0):\n",
    "        \n",
    "        if self.option_type == \"call\":\n",
    "            return self.brownian_motion.trajectory[int(round(t/self.brownian_motion.dt))] * N(self.d1(t)) - self.K * np.exp(-self.r*self.brownian_motion.T)* N(self.d2(t))\n",
    "        elif self.option_type == \"put\":\n",
    "            return self.K*np.exp(-self.r*self.brownian_motion.T)*N(-self.d2(t)) - self.brownian_motion.trajectory[int(round(t/self.brownian_motion.dt))]*N(-self.d1(t))\n",
    "\n",
    "    def delta(self, t=0):\n",
    "        \n",
    "        if self.option_type == \"call\":\n",
    "            return N(self.d1(t))\n",
    "        \n",
    "        elif self.option_type == \"put\":\n",
    "            return N(self.d1(t)) - 1\n",
    "        \n",
    "    def gamma(self, t=0):\n",
    "        \n",
    "        return n(self.d1(t))/(self.brownian_motion.trajectory[int(round(t/self.brownian_motion.dt))]*self.brownian_motion.sigma*np.sqrt(self.brownian_motion.T - t))\n",
    "    \n",
    "    def payoff(self):\n",
    "        \n",
    "        if self.option_type == \"call\":\n",
    "            return np.max([self.brownian_motion.trajectory[-1] - self.K, 0])\n",
    "        \n",
    "        elif self.option_type == \"put\":\n",
    "            return np.max([self.K - self.brownian_motion.trajectory[-1], 0])\n",
    "        \n",
    "        \n",
    "        \n",
    "\n",
    "        \n",
    "        \n",
    "        \n",
    "        \n",
    "        \n",
    "        \n",
    "        \n",
    "        "
   ]
  },
  {
   "cell_type": "markdown",
   "metadata": {},
   "source": [
    "### No hedging\n",
    "----------------------"
   ]
  },
  {
   "cell_type": "code",
   "execution_count": 381,
   "metadata": {},
   "outputs": [],
   "source": [
    "#no hedging\n",
    "\n",
    "K = 110\n",
    "r = 0.04\n",
    "value_put_no_hedge = np.zeros(1000)\n",
    "value_call_no_hedge = np.zeros(1000)\n",
    " \n",
    "for mcs in np.arange(1000):\n",
    "    gbm = GBM(0.2, 0.04, 100)  \n",
    "    \n",
    "    option_market_put = Option(K, gbm, \"put\")\n",
    "    value_put_no_hedge[mcs] = np.exp(-option_market_put.r*gbm.T)*(((option_market_put.price_option())*np.exp(option_market_put.r*gbm.T) - option_market_put.payoff())/option_market_put.price_option())\n",
    "    \n",
    "    option_market_call = Option(K, gbm, \"call\")\n",
    "    value_call_no_hedge[mcs] = np.exp(-option_market_call.r*gbm.T)*(((option_market_call.price_option())*np.exp(option_market_call.r*gbm.T) - option_market_call.payoff())/option_market_call.price_option())"
   ]
  },
  {
   "cell_type": "code",
   "execution_count": 382,
   "metadata": {},
   "outputs": [
    {
     "data": {
      "text/plain": [
       "Text(0.5, 1.0, 'Call option no hedging')"
      ]
     },
     "execution_count": 382,
     "metadata": {},
     "output_type": "execute_result"
    },
    {
     "data": {
      "image/png": "[encoded data removed]",
      "text/plain": [
       "<Figure size 720x360 with 2 Axes>"
      ]
     },
     "metadata": {},
     "output_type": "display_data"
    }
   ],
   "source": [
    "fig, (ax1, ax2) = plt.subplots(1, 2, figsize=(10,5))\n",
    "ax1.hist(value_put_no_hedge)\n",
    "ax1.set_xlabel(\"Money made/money spend discounted at time 0\")\n",
    "ax1.set_title(\"Put option no hedging\")\n",
    "\n",
    "ax2.hist(value_call_no_hedge)\n",
    "ax2.set_xlabel(\"Money made/money spend discounted at time 0\")\n",
    "ax2.set_title(\"Call option no hedging\")"
   ]
  },
  {
   "cell_type": "markdown",
   "metadata": {},
   "source": [
    "### Hedging at $t=0$\n",
    "---------------------------------"
   ]
  },
  {
   "cell_type": "code",
   "execution_count": 420,
   "metadata": {},
   "outputs": [],
   "source": [
    "#one hedging\n",
    "\n",
    "K = 110\n",
    "r = 0.04\n",
    "value_put_one_hedge = np.zeros(10000)\n",
    "value_call_one_hedge = np.zeros(10000)\n",
    " \n",
    "for mcs in np.arange(10000):\n",
    "    gbm = GBM(0.2, 0.04, 100)  \n",
    "    option_market_put = Option(K, gbm, \"put\")\n",
    "    value_put_one_hedge[mcs] = np.exp(-option_market_put.r*gbm.T)*(((option_market_put.price_option() - option_market_put.delta()*gbm.trajectory[0])*np.exp(option_market_put.r*gbm.T) + option_market_put.delta()*gbm.trajectory[-1] - option_market_put.payoff())/option_market_put.price_option())\n",
    "    \n",
    "    option_market_call = Option(K, gbm, \"call\")\n",
    "    value_call_one_hedge[mcs] = np.exp(-option_market_call.r*gbm.T)*(((option_market_call.price_option() - option_market_call.delta()*gbm.trajectory[0])*np.exp(option_market_call.r*gbm.T) + option_market_call.delta()*gbm.trajectory[-1] - option_market_call.payoff())/option_market_call.price_option())"
   ]
  },
  {
   "cell_type": "code",
   "execution_count": 421,
   "metadata": {},
   "outputs": [
    {
     "data": {
      "text/plain": [
       "Text(0.5, 1.0, 'Call option one hedging')"
      ]
     },
     "execution_count": 421,
     "metadata": {},
     "output_type": "execute_result"
    },
    {
     "data": {
      "image/png": "[encoded data removed]",
      "text/plain": [
       "<Figure size 720x360 with 2 Axes>"
      ]
     },
     "metadata": {},
     "output_type": "display_data"
    }
   ],
   "source": [
    "fig, (ax1, ax2) = plt.subplots(1, 2, figsize=(10,5))\n",
    "ax1.hist(value_put_one_hedge)\n",
    "ax1.set_xlabel(\"Money made/money spend discounted at time 0\")\n",
    "ax1.set_title(\"Put option one hedging\")\n",
    "\n",
    "ax2.hist(value_call_one_hedge)\n",
    "ax2.set_xlabel(\"Money made/money spend discounted at time 0\")\n",
    "ax2.set_title(\"Call option one hedging\")"
   ]
  },
  {
   "cell_type": "markdown",
   "metadata": {},
   "source": [
    "### Hedging at $t=0$ and $t=1$\n",
    "---------------------------------"
   ]
  },
  {
   "cell_type": "code",
   "execution_count": 441,
   "metadata": {},
   "outputs": [],
   "source": [
    "#two hedgings\n",
    "\n",
    "K = 110\n",
    "r = 0.04\n",
    "value_put_two_hedge = np.zeros(10000)\n",
    "value_call_two_hedge = np.zeros(10000)\n",
    " \n",
    "for mcs in np.arange(10000):\n",
    "    gbm = GBM(0.2, 0.04, 100)  \n",
    "    \n",
    "    option_market_put = Option(K, gbm, \"put\") \n",
    "    assets_bought_compounded_put = option_market_put.delta(0)*gbm.trajectory[0]*np.exp(r*gbm.T) + (option_market_put.delta(1) - option_market_put.delta(0))*gbm.trajectory[int(np.round(1/gbm.dt))]*np.exp(r*(gbm.T-1))\n",
    "    value_put_two_hedge[mcs] = np.exp(-r*gbm.T)*((option_market_put.price_option()*np.exp(option_market_put.r*gbm.T) - assets_bought_compounded_put + option_market_put.delta(1)*gbm.trajectory[-1] - option_market_put.payoff())/option_market_put.price_option())\n",
    "    \n",
    "    option_market_call = Option(K, gbm, \"call\")\n",
    "    assets_bought_compounded_call = option_market_call.delta(0)*gbm.trajectory[0]*np.exp(r*gbm.T) + (option_market_call.delta(1) - option_market_call.delta(0))*gbm.trajectory[int(np.round(1/gbm.dt))]*np.exp(r*(gbm.T-1))\n",
    "    value_call_two_hedge[mcs] = np.exp(-r*gbm.T)*((option_market_call.price_option()*np.exp(option_market_call.r*gbm.T) - assets_bought_compounded_call + option_market_call.delta(1)*gbm.trajectory[-1] - option_market_call.payoff())/option_market_call.price_option())"
   ]
  },
  {
   "cell_type": "code",
   "execution_count": 442,
   "metadata": {},
   "outputs": [
    {
     "data": {
      "text/plain": [
       "Text(0.5, 1.0, 'Call option two hedgings')"
      ]
     },
     "execution_count": 442,
     "metadata": {},
     "output_type": "execute_result"
    },
    {
     "data": {
      "image/png": "[encoded data removed]",
      "text/plain": [
       "<Figure size 720x360 with 2 Axes>"
      ]
     },
     "metadata": {},
     "output_type": "display_data"
    }
   ],
   "source": [
    "fig, (ax1, ax2) = plt.subplots(1, 2, figsize=(10,5))\n",
    "ax1.hist(value_put_two_hedge)\n",
    "ax1.set_xlabel(\"Money made/money spend discounted at time 0\")\n",
    "ax1.set_title(\"Put option two hedgings\")\n",
    "\n",
    "ax2.hist(value_call_two_hedge)\n",
    "ax2.set_xlabel(\"Money made/money spend discounted at time 0\")\n",
    "ax2.set_title(\"Call option two hedgings\")"
   ]
  },
  {
   "cell_type": "markdown",
   "metadata": {},
   "source": [
    "### $n$ hedgings\n",
    "___________________________________"
   ]
  },
  {
   "cell_type": "code",
   "execution_count": 443,
   "metadata": {},
   "outputs": [],
   "source": [
    "#hedgings at each dt\n",
    "\n",
    "K = 110\n",
    "r = 0.04\n",
    "value_put_n_hedge = np.zeros(1000)\n",
    "value_call_n_hedge = np.zeros(1000)\n",
    "df = 0.01\n",
    "    \n",
    "for mcs in np.arange(1000):\n",
    "    gbm = GBM(0.2, 0.04, 100, dt=0.01)  \n",
    "        \n",
    "    option_market_put = Option(K, gbm, \"put\") \n",
    "    \n",
    "    v0 = option_market_put.price_option(0) \n",
    "    delta_0 = option_market_put.delta(0)\n",
    "    m0 = v0 - delta_0*gbm.trajectory[0]\n",
    "    \n",
    "    delta_prev = delta_0\n",
    "    m_prev = m0\n",
    "    for i in np.arange(1, len(gbm.trajectory)):\n",
    "        delta_t = option_market_put.delta(i*dt)\n",
    "        ut = delta_t - delta_prev\n",
    "        mt = np.exp(r*dt)*m_prev - ut*gbm.trajectory[i]\n",
    "        m_prev = mt\n",
    "        delta_prev = delta_t\n",
    "        \n",
    "    value_put_n_hedge[mcs] = np.exp(-r*gbm.T)*(mt - option_market_put.payoff() + delta_prev*gbm.trajectory[-1])/v0\n",
    "    \n",
    "    \n",
    "    option_market_call = Option(K, gbm, \"call\") \n",
    "    \n",
    "    v0 = option_market_call.price_option(0) \n",
    "    delta_0 = option_market_call.delta(0)\n",
    "    m0 = v0 - delta_0*gbm.trajectory[0]\n",
    "    \n",
    "    delta_prev = delta_0\n",
    "    m_prev = m0\n",
    "    for i in np.arange(1, len(gbm.trajectory)):\n",
    "        delta_t = option_market_call.delta(i*dt)\n",
    "        ut = delta_t - delta_prev\n",
    "        mt = np.exp(r*dt)*m_prev - ut*gbm.trajectory[i]\n",
    "        m_prev = mt\n",
    "        delta_prev = delta_t\n",
    "        \n",
    "    value_call_n_hedge[mcs] = np.exp(-r*gbm.T)*(mt - option_market_call.payoff() + delta_prev*gbm.trajectory[-1])/v0\n",
    "        \n",
    "        "
   ]
  },
  {
   "cell_type": "code",
   "execution_count": 431,
   "metadata": {},
   "outputs": [
    {
     "data": {
      "text/plain": [
       "(3.053888177019452, 113.39322508897716, 3.393225125608055, -51.021058774374055)"
      ]
     },
     "execution_count": 431,
     "metadata": {},
     "output_type": "execute_result"
    }
   ],
   "source": [
    "option_market_call.price_option(), delta_prev*gbm.trajectory[-1], option_market_call.payoff(), mt"
   ]
  },
  {
   "cell_type": "code",
   "execution_count": 444,
   "metadata": {},
   "outputs": [
    {
     "data": {
      "text/plain": [
       "Text(0.5, 1.0, 'Call option hedgings continuously')"
      ]
     },
     "execution_count": 444,
     "metadata": {},
     "output_type": "execute_result"
    },
    {
     "data": {
      "image/png": "[encoded data removed]",
      "text/plain": [
       "<Figure size 720x360 with 2 Axes>"
      ]
     },
     "metadata": {},
     "output_type": "display_data"
    }
   ],
   "source": [
    "fig, (ax1, ax2) = plt.subplots(1, 2, figsize=(10,5))\n",
    "ax1.hist(value_put_n_hedge)\n",
    "ax1.set_xlabel(\"Money made/money spend discounted at time 0\")\n",
    "ax1.set_title(\"Put option hedgings continuously\")\n",
    "\n",
    "ax2.hist(value_call_n_hedge)\n",
    "ax2.set_xlabel(\"Money made/money spend discounted at time 0\")\n",
    "ax2.set_title(\"Call option hedgings continuously\")"
   ]
  },
  {
   "cell_type": "code",
   "execution_count": 248,
   "metadata": {},
   "outputs": [],
   "source": [
    "N = scipy.stats.norm.cdf\n",
    "\n",
    "def BS_CALL(S, K, T, r, sigma):\n",
    "    d1 = (np.log(S/K) + (r + sigma**2/2)*T) / (sigma*np.sqrt(T))\n",
    "    d2 = d1 - sigma * np.sqrt(T)\n",
    "    return S * N(d1) - K * np.exp(-r*T)* N(d2)\n",
    "\n",
    "def BS_PUT(S, K, T, r, sigma):\n",
    "    d1 = (np.log(S/K) + (r + sigma**2/2)*T) / (sigma*np.sqrt(T))\n",
    "    d2 = d1 - sigma* np.sqrt(T)\n",
    "    return K*np.exp(-r*T)*N(-d2) - S*N(-d1)\n",
    "\n",
    "def DELTA_CALL(t, S, K, T, r, sigma):\n",
    "    d1 = (np.log(S/K) + (r + sigma**2/2)*(T-t)) / (sigma*np.sqrt(T-t))\n",
    "    return N(d1)\n",
    "\n",
    "def DELTA_PUT(t, S, K, T, r, sigma):\n",
    "    d1 = (np.log(S/K) + (r + sigma**2/2)*(T-t)) / (sigma*np.sqrt(T-t))\n",
    "    return -N(-d1)"
   ]
  }
 ],
 "metadata": {
  "kernelspec": {
   "display_name": "Python 3",
   "language": "python",
   "name": "python3"
  },
  "language_info": {
   "codemirror_mode": {
    "name": "ipython",
    "version": 3
   },
   "file_extension": ".py",
   "mimetype": "text/x-python",
   "name": "python",
   "nbconvert_exporter": "python",
   "pygments_lexer": "ipython3",
   "version": "3.10.0"
  }
 },
 "nbformat": 4,
 "nbformat_minor": 2
}
