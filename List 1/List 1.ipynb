{
 "cells": [
  {
   "cell_type": "code",
   "execution_count": 191,
   "metadata": {},
   "outputs": [],
   "source": [
    "import numpy as np\n",
    "import scipy.stats\n",
    "import matplotlib.pyplot as plt\n",
    "import seaborn as sns\n",
    "import yfinance as yf \n",
    "\n",
    "N = scipy.stats.norm.cdf\n",
    "n = scipy.stats.norm.pdf\n",
    "sns.set_style(\"darkgrid\")\n",
    "\n",
    "np.random.seed(1)"
   ]
  },
  {
   "cell_type": "markdown",
   "metadata": {},
   "source": [
    "Laboratory Assignments:\n",
    "\n",
    "1.1: Implement delta-hedging for a simulated price trajectory and show that the cost of the hedge approaches zero as the frequency of rehedging increases to infinity.\n",
    "\n",
    "1.2: Implement delta-gamma-hedging (a chosen variant) for a simulated price trajectory. Show that the cost is lower than that of the delta-hedge. Use the following condition for the second option strike: K2>K for call and K2<K for put.\n",
    "\n",
    "1.3: Hedge funds use delta-hedging to minimize risk when trading options. Implement hedging strategies for a selected stock (APPLE, TESLA, KGHM, ASML) - use Black-Scholes formula to calculate option prices and greeks\n",
    "\n",
    "General setup:\n",
    "We sell an option (call) -> short position\n",
    "We want to hedge the risk using Δ-hedging strategy\n",
    "Remarks:\n",
    "We need to have a price trajectory -> simulate it using GBM\n",
    "We need to have the option premium at t=0 -> calculate it using the Black-Scholes price formula\n",
    "We need Δ_t at each moment of rehedging -> calculate it using the formula for Δ in the Black-Scholes setup\n",
    "The strategy outcome is random (dependent on a given price trajectory)\n",
    "Repeat the procedure many times (with different realizations of GBM) and analyse the outcome distribution (pdf, mean, etc.)\n",
    "Repeat the simulations for different rehedging frequency"
   ]
  },
  {
   "cell_type": "markdown",
   "metadata": {},
   "source": [
    "### 1.1\n",
    " Implement delta-hedging for a simulated price trajectory and show that the cost of the hedge approaches zero as the frequency of rehedging increases to infinity."
   ]
  },
  {
   "cell_type": "code",
   "execution_count": 91,
   "metadata": {},
   "outputs": [],
   "source": []
  },
  {
   "cell_type": "code",
   "execution_count": 193,
   "metadata": {},
   "outputs": [],
   "source": [
    "class GBM():\n",
    "    \n",
    "    def __init__(self, sigma, mu, S0, T=2, dt=0.01):\n",
    "        \n",
    "        self.sigma = sigma\n",
    "        self.mu = mu\n",
    "        self.S0 = S0\n",
    "        self.T = T\n",
    "        self.dt = dt \n",
    "        \n",
    "        norm = scipy.stats.norm.rvs(0, np.sqrt(dt), size = int(round(T/dt))) \n",
    "        Wt = np.cumsum(norm) #brownian motion\n",
    "        \n",
    "        self.trajectory = np.concatenate([np.array([self.S0]), self.S0*np.exp((mu-(self.sigma**2)/2)*np.arange(dt, T, step=dt) + self.sigma*Wt[:-1])])\n",
    "                \n",
    "    def plot(self):\n",
    "        \n",
    "        plt.plot(np.arange(self.T, step = self.dt), self.trajectory)\n",
    "        plt.xlabel(\"t\")\n",
    "        plt.ylabel(\"S(t)\")\n",
    "        plt.show()\n",
    "        \n",
    "class RealData():\n",
    "    \n",
    "    def __init__(self, df, mu):\n",
    "\n",
    "        df[\"Returns\"] = df[\"Close\"]/df[\"Close\"].shift(1)\n",
    "        df[\"Log_returns\"] = np.log(df[\"Returns\"])\n",
    "        df = df.iloc[1:] #return for the first row is not known\n",
    "        \n",
    "        self.sigma = np.std(df[\"Log_returns\"])*np.sqrt(251)\n",
    "        self.mu = mu\n",
    "        self.T = 1\n",
    "        self.dt = 1/251\n",
    "        self.data_frame = df\n",
    "        \n",
    "        self.trajectory = np.array(df[\"Close\"])\n",
    "        \n",
    "    def plot(self):\n",
    "        \n",
    "        plt.plot(np.arange(self.T, step = self.dt), self.trajectory)\n",
    "        plt.xlabel(\"t\")\n",
    "        plt.ylabel(\"S(t)\")\n",
    "        plt.show()\n",
    "                      \n",
    "class Option():\n",
    "    \n",
    "    def __init__(self, K, brownian_motion, option_type):\n",
    "        \n",
    "        self.K = K\n",
    "        self.brownian_motion = brownian_motion  \n",
    "        self.r = self.brownian_motion.mu \n",
    "        self.option_type = option_type\n",
    "        \n",
    "    def d1(self, t):\n",
    "        return (np.log(self.brownian_motion.trajectory[int(round(t/self.brownian_motion.dt))]/self.K) + (self.r + (self.brownian_motion.sigma)**2/2)*(self.brownian_motion.T - t)) / (self.brownian_motion.sigma*np.sqrt(self.brownian_motion.T - t))\n",
    "     \n",
    "    def d2(self, t):\n",
    "        return self.d1(t) - self.brownian_motion.sigma * np.sqrt(self.brownian_motion.T - t)       \n",
    "        \n",
    "    def price_option(self, t=0):\n",
    "        \n",
    "        if self.option_type == \"call\":\n",
    "            return self.brownian_motion.trajectory[int(round(t/self.brownian_motion.dt))] * N(self.d1(t)) - self.K * np.exp(-self.r*(self.brownian_motion.T-t))* N(self.d2(t))\n",
    "        elif self.option_type == \"put\":\n",
    "            return self.K*np.exp(-self.r*(self.brownian_motion.T-t))*N(-self.d2(t)) - self.brownian_motion.trajectory[int(round(t/self.brownian_motion.dt))]*N(-self.d1(t))\n",
    "\n",
    "    def delta(self, t=0):\n",
    "        \n",
    "        if self.option_type == \"call\":\n",
    "            return N(self.d1(t))\n",
    "        \n",
    "        elif self.option_type == \"put\":\n",
    "            return N(self.d1(t)) - 1\n",
    "        \n",
    "    def gamma(self, t=0):\n",
    "        \n",
    "        return n(self.d1(t))/(self.brownian_motion.trajectory[int(round(t/self.brownian_motion.dt))]*self.brownian_motion.sigma*np.sqrt(self.brownian_motion.T - t))\n",
    "    \n",
    "    def payoff(self):\n",
    "        \n",
    "        if self.option_type == \"call\":\n",
    "            return np.max([self.brownian_motion.trajectory[-1] - self.K, 0])\n",
    "        \n",
    "        elif self.option_type == \"put\":\n",
    "            return np.max([self.K - self.brownian_motion.trajectory[-1], 0])\n",
    "        "
   ]
  },
  {
   "cell_type": "markdown",
   "metadata": {},
   "source": [
    "### No hedging\n",
    "----------------------"
   ]
  },
  {
   "cell_type": "code",
   "execution_count": 198,
   "metadata": {},
   "outputs": [],
   "source": [
    "#no hedging\n",
    "\n",
    "K = 110\n",
    "r = 0.04\n",
    "value_put_no_hedge = np.zeros(10000)\n",
    "value_call_no_hedge = np.zeros(10000)\n",
    " \n",
    "for mcs in np.arange(10000):\n",
    "    gbm = GBM(0.2, 0.04, 100)  \n",
    "    \n",
    "    option_market_put = Option(K, gbm, \"put\")\n",
    "    value_put_no_hedge[mcs] = np.exp(-option_market_put.r*gbm.T)*(((option_market_put.price_option())*np.exp(option_market_put.r*gbm.T) - option_market_put.payoff())/option_market_put.price_option())\n",
    "    \n",
    "    option_market_call = Option(K, gbm, \"call\")\n",
    "    value_call_no_hedge[mcs] = np.exp(-option_market_call.r*gbm.T)*(((option_market_call.price_option())*np.exp(option_market_call.r*gbm.T) - option_market_call.payoff())/option_market_call.price_option())"
   ]
  },
  {
   "cell_type": "code",
   "execution_count": 201,
   "metadata": {},
   "outputs": [
    {
     "data": {
      "text/plain": [
       "Text(0.5, 1.0, 'Call option no hedging')"
      ]
     },
     "execution_count": 201,
     "metadata": {},
     "output_type": "execute_result"
    },
    {
     "data": {
      "image/png": "[encoded data removed]",
      "text/plain": [
       "<Figure size 720x360 with 2 Axes>"
      ]
     },
     "metadata": {},
     "output_type": "display_data"
    }
   ],
   "source": [
    "fig, (ax1, ax2) = plt.subplots(1, 2, figsize=(10,5))\n",
    "ax1.hist(value_put_no_hedge)\n",
    "ax1.set_xlabel(\"Money made/money spent discounted at time 0\")\n",
    "ax1.set_title(\"Put option no hedging\")\n",
    "\n",
    "ax2.hist(value_call_no_hedge)\n",
    "ax2.set_xlabel(\"Money made/money spent discounted at time 0\")\n",
    "ax2.set_title(\"Call option no hedging\")"
   ]
  },
  {
   "cell_type": "code",
   "execution_count": 200,
   "metadata": {},
   "outputs": [
    {
     "name": "stdout",
     "output_type": "stream",
     "text": [
      "Mean for put: -0.01.\n",
      "Mean for call: 0.02.\n",
      "Variance for put: 1.4505.\n",
      "Variance for call: 3.1589.\n"
     ]
    }
   ],
   "source": [
    "print(f'Mean for put: {np.round(np.mean(value_put_no_hedge), 2)}.\\nMean for call: {np.round(np.mean(value_call_no_hedge), 2)}.')\n",
    "print(f'Variance for put: {np.round(np.var(value_put_no_hedge), 4)}.\\nVariance for call: {np.round(np.var(value_call_no_hedge), 4)}.')"
   ]
  },
  {
   "cell_type": "markdown",
   "metadata": {},
   "source": [
    "The mean money made/money spent for both put and call options is close to zero, as expected with correctly priced options. The maximum gain is capped at the option's price, while potential losses are unlimited, resulting in a left-skewed distribution. Variance is highest for the call option."
   ]
  },
  {
   "cell_type": "markdown",
   "metadata": {},
   "source": [
    "### Hedging at $t=0$\n",
    "---------------------------------"
   ]
  },
  {
   "cell_type": "code",
   "execution_count": 202,
   "metadata": {},
   "outputs": [],
   "source": [
    "#one hedging\n",
    "\n",
    "K = 110\n",
    "r = 0.04\n",
    "value_put_one_hedge = np.zeros(1000)\n",
    "value_call_one_hedge = np.zeros(1000)\n",
    " \n",
    "for mcs in np.arange(1000):\n",
    "    gbm = GBM(0.2, 0.04, 100)  \n",
    "    option_market_put = Option(K, gbm, \"put\")\n",
    "    value_put_one_hedge[mcs] = np.exp(-option_market_put.r*gbm.T)*(((option_market_put.price_option() - option_market_put.delta()*gbm.trajectory[0])*np.exp(option_market_put.r*gbm.T) + option_market_put.delta()*gbm.trajectory[-1] - option_market_put.payoff())/option_market_put.price_option())\n",
    "    \n",
    "    option_market_call = Option(K, gbm, \"call\")\n",
    "    value_call_one_hedge[mcs] = np.exp(-option_market_call.r*gbm.T)*(((option_market_call.price_option() - option_market_call.delta()*gbm.trajectory[0])*np.exp(option_market_call.r*gbm.T) + option_market_call.delta()*gbm.trajectory[-1] - option_market_call.payoff())/option_market_call.price_option())"
   ]
  },
  {
   "cell_type": "code",
   "execution_count": 203,
   "metadata": {},
   "outputs": [
    {
     "data": {
      "text/plain": [
       "Text(0.5, 1.0, 'Call option one hedging')"
      ]
     },
     "execution_count": 203,
     "metadata": {},
     "output_type": "execute_result"
    },
    {
     "data": {
      "image/png": "[encoded data removed]",
      "text/plain": [
       "<Figure size 720x360 with 2 Axes>"
      ]
     },
     "metadata": {},
     "output_type": "display_data"
    }
   ],
   "source": [
    "fig, (ax1, ax2) = plt.subplots(1, 2, figsize=(10,5))\n",
    "ax1.hist(value_put_one_hedge)\n",
    "ax1.set_xlabel(\"Money made/money spent discounted at time 0\")\n",
    "ax1.set_title(\"Put option one hedging\")\n",
    "\n",
    "ax2.hist(value_call_one_hedge)\n",
    "ax2.set_xlabel(\"Money made/money spent discounted at time 0\")\n",
    "ax2.set_title(\"Call option one hedging\")"
   ]
  },
  {
   "cell_type": "code",
   "execution_count": 204,
   "metadata": {},
   "outputs": [
    {
     "name": "stdout",
     "output_type": "stream",
     "text": [
      "Mean for put: -0.02.\n",
      "Mean for call: -0.03.\n",
      "Variance for put: 0.5299.\n",
      "Variance for call: 0.6958.\n"
     ]
    }
   ],
   "source": [
    "print(f'Mean for put: {np.round(np.mean(value_put_one_hedge), 2)}.\\nMean for call: {np.round(np.mean(value_call_one_hedge), 2)}.')\n",
    "print(f'Variance for put: {np.round(np.var(value_put_one_hedge), 4)}.\\nVariance for call: {np.round(np.var(value_call_one_hedge), 4)}.')"
   ]
  },
  {
   "cell_type": "markdown",
   "metadata": {},
   "source": [
    "After hedging portoflio at $t=0$ variance has been reduced. Since the portfolio includes an asset, gains are not capped by the option's price, and due to delta hedging, losses have been limited."
   ]
  },
  {
   "cell_type": "markdown",
   "metadata": {},
   "source": [
    "### Hedging at $t=0$ and $t=1$\n",
    "---------------------------------"
   ]
  },
  {
   "cell_type": "code",
   "execution_count": 205,
   "metadata": {},
   "outputs": [],
   "source": [
    "#two hedgings\n",
    "\n",
    "K = 110\n",
    "r = 0.04\n",
    "value_put_two_hedge = np.zeros(1000)\n",
    "value_call_two_hedge = np.zeros(1000)\n",
    " \n",
    "for mcs in np.arange(1000):\n",
    "    gbm = GBM(0.2, 0.04, 100)  \n",
    "    \n",
    "    option_market_put = Option(K, gbm, \"put\") \n",
    "    assets_bought_compounded_put = option_market_put.delta(0)*gbm.trajectory[0]*np.exp(r*gbm.T) + (option_market_put.delta(1) - option_market_put.delta(0))*gbm.trajectory[int(np.round(1/gbm.dt))]*np.exp(r*(gbm.T-1))\n",
    "    value_put_two_hedge[mcs] = np.exp(-r*gbm.T)*((option_market_put.price_option()*np.exp(option_market_put.r*gbm.T) - assets_bought_compounded_put + option_market_put.delta(1)*gbm.trajectory[-1] - option_market_put.payoff())/option_market_put.price_option())\n",
    "    \n",
    "    option_market_call = Option(K, gbm, \"call\")\n",
    "    assets_bought_compounded_call = option_market_call.delta(0)*gbm.trajectory[0]*np.exp(r*gbm.T) + (option_market_call.delta(1) - option_market_call.delta(0))*gbm.trajectory[int(np.round(1/gbm.dt))]*np.exp(r*(gbm.T-1))\n",
    "    value_call_two_hedge[mcs] = np.exp(-r*gbm.T)*((option_market_call.price_option()*np.exp(option_market_call.r*gbm.T) - assets_bought_compounded_call + option_market_call.delta(1)*gbm.trajectory[-1] - option_market_call.payoff())/option_market_call.price_option())"
   ]
  },
  {
   "cell_type": "code",
   "execution_count": 206,
   "metadata": {},
   "outputs": [
    {
     "data": {
      "text/plain": [
       "Text(0.5, 1.0, 'Call option two hedgings')"
      ]
     },
     "execution_count": 206,
     "metadata": {},
     "output_type": "execute_result"
    },
    {
     "data": {
      "image/png": "[encoded data removed]",
      "text/plain": [
       "<Figure size 720x360 with 2 Axes>"
      ]
     },
     "metadata": {},
     "output_type": "display_data"
    }
   ],
   "source": [
    "fig, (ax1, ax2) = plt.subplots(1, 2, figsize=(10,5))\n",
    "ax1.hist(value_put_two_hedge)\n",
    "ax1.set_xlabel(\"Money made/money spent discounted at time 0\")\n",
    "ax1.set_title(\"Put option two hedgings\")\n",
    "\n",
    "ax2.hist(value_call_two_hedge)\n",
    "ax2.set_xlabel(\"Money made/money spent discounted at time 0\")\n",
    "ax2.set_title(\"Call option two hedgings\")"
   ]
  },
  {
   "cell_type": "code",
   "execution_count": 207,
   "metadata": {},
   "outputs": [
    {
     "name": "stdout",
     "output_type": "stream",
     "text": [
      "Mean for put: 0.01.\n",
      "Mean for call: 0.01.\n",
      "Variance for put: 0.2684.\n",
      "Variance for call: 0.3525.\n"
     ]
    }
   ],
   "source": [
    "print(f'Mean for put: {np.round(np.mean(value_put_two_hedge), 2)}.\\nMean for call: {np.round(np.mean(value_call_two_hedge), 2)}.')\n",
    "print(f'Variance for put: {np.round(np.var(value_put_two_hedge), 4)}.\\nVariance for call: {np.round(np.var(value_call_two_hedge), 4)}.')"
   ]
  },
  {
   "cell_type": "markdown",
   "metadata": {},
   "source": [
    "After adding hedging at $t=1$ (midway through the option's maturity), the variance has been reduced by half. Money made/money spent distribution becomes progressively less skewed with each additional hedging step."
   ]
  },
  {
   "cell_type": "markdown",
   "metadata": {},
   "source": [
    "### Continuous hedgings\n",
    "___________________________________"
   ]
  },
  {
   "cell_type": "code",
   "execution_count": 208,
   "metadata": {},
   "outputs": [],
   "source": [
    "#hedgings at each dt\n",
    "\n",
    "K = 110\n",
    "r = 0.04\n",
    "value_put_n_hedge = np.zeros(1000)\n",
    "value_call_n_hedge = np.zeros(1000)\n",
    "dt = 0.01\n",
    "    \n",
    "for mcs in np.arange(1000):\n",
    "    gbm = GBM(0.2, 0.04, 100, dt=0.01)  \n",
    "        \n",
    "    option_market_put = Option(K, gbm, \"put\") \n",
    "    \n",
    "    v0 = option_market_put.price_option(0) \n",
    "    delta_0 = option_market_put.delta(0)\n",
    "    m0 = v0 - delta_0*gbm.trajectory[0]\n",
    "    \n",
    "    delta_prev = delta_0\n",
    "    m_prev = m0\n",
    "    for i in np.arange(1, len(gbm.trajectory)):\n",
    "        delta_t = option_market_put.delta(i*dt)\n",
    "        ut = delta_t - delta_prev\n",
    "        mt = np.exp(r*dt)*m_prev - ut*gbm.trajectory[i]\n",
    "        m_prev = mt\n",
    "        delta_prev = delta_t\n",
    "        \n",
    "    value_put_n_hedge[mcs] = np.exp(-r*gbm.T)*(mt - option_market_put.payoff() + delta_prev*gbm.trajectory[-1])/v0\n",
    "    \n",
    "    \n",
    "    option_market_call = Option(K, gbm, \"call\") \n",
    "    \n",
    "    v0 = option_market_call.price_option(0) \n",
    "    delta_0 = option_market_call.delta(0)\n",
    "    m0 = v0 - delta_0*gbm.trajectory[0]\n",
    "    \n",
    "    delta_prev = delta_0\n",
    "    m_prev = m0\n",
    "    for i in np.arange(1, len(gbm.trajectory)):\n",
    "        delta_t = option_market_call.delta(i*dt)\n",
    "        ut = delta_t - delta_prev\n",
    "        mt = np.exp(r*dt)*m_prev - ut*gbm.trajectory[i]\n",
    "        m_prev = mt\n",
    "        delta_prev = delta_t\n",
    "        \n",
    "    value_call_n_hedge[mcs] = np.exp(-r*gbm.T)*(mt - option_market_call.payoff() + delta_prev*gbm.trajectory[-1])/v0\n",
    "        \n",
    "        "
   ]
  },
  {
   "cell_type": "code",
   "execution_count": 209,
   "metadata": {},
   "outputs": [
    {
     "data": {
      "text/plain": [
       "Text(0.5, 1.0, 'Call option hedgings continuously')"
      ]
     },
     "execution_count": 209,
     "metadata": {},
     "output_type": "execute_result"
    },
    {
     "data": {
      "image/png": "[encoded data removed]",
      "text/plain": [
       "<Figure size 720x360 with 2 Axes>"
      ]
     },
     "metadata": {},
     "output_type": "display_data"
    }
   ],
   "source": [
    "fig, (ax1, ax2) = plt.subplots(1, 2, figsize=(10,5))\n",
    "ax1.hist(value_put_n_hedge)\n",
    "ax1.set_xlabel(\"Money made/money spend discounted at time 0\")\n",
    "ax1.set_title(\"Put option hedgings continuously\")\n",
    "\n",
    "ax2.hist(value_call_n_hedge)\n",
    "ax2.set_xlabel(\"Money made/money spend discounted at time 0\")\n",
    "ax2.set_title(\"Call option hedgings continuously\")"
   ]
  },
  {
   "cell_type": "code",
   "execution_count": 210,
   "metadata": {},
   "outputs": [
    {
     "name": "stdout",
     "output_type": "stream",
     "text": [
      "Mean for put: 0.0.\n",
      "Mean for call: 0.0.\n",
      "Variance for put: 0.0033.\n",
      "Variance for call: 0.0043.\n"
     ]
    }
   ],
   "source": [
    "print(f'Mean for put: {np.round(np.mean(value_put_n_hedge), 2)}.\\nMean for call: {np.round(np.mean(value_call_n_hedge), 2)}.')\n",
    "print(f'Variance for put: {np.round(np.var(value_put_n_hedge), 4)}.\\nVariance for call: {np.round(np.var(value_call_n_hedge), 4)}.')"
   ]
  },
  {
   "cell_type": "markdown",
   "metadata": {},
   "source": [
    "When delta hegding is performed continuously (at each \"step\" of geometric brownian motion), variance is reduced nearly to $0$. Maximum gain or loss from this strategy is approximately $20\\%$."
   ]
  },
  {
   "cell_type": "markdown",
   "metadata": {},
   "source": [
    "## Delta-gamma hedging\n",
    "\n",
    "### Hedging at $t=0$\n",
    "------------------------------"
   ]
  },
  {
   "cell_type": "code",
   "execution_count": 211,
   "metadata": {},
   "outputs": [],
   "source": [
    "#one hedging\n",
    "\n",
    "K = 110\n",
    "K_call = 120\n",
    "K_put = 100\n",
    "\n",
    "r = 0.04\n",
    "\n",
    "value_put_one_hedge_dg = np.zeros(1000)\n",
    "value_call_one_hedge_dg = np.zeros(1000)\n",
    " \n",
    "for mcs in np.arange(1000):\n",
    "    \n",
    "    gbm = GBM(0.2, 0.04, 100)\n",
    "    \n",
    "    option_market_put = Option(K, gbm, \"put\")\n",
    "    option_market_1_gamma = Option(K_call, gbm, \"call\")\n",
    "    \n",
    "    N_call = -option_market_put.gamma()/option_market_1_gamma.gamma() #gamma_total = gamma_put + N*gamma_call = 0\n",
    "    delta_0 = option_market_put.delta() + N_call*option_market_1_gamma.delta()\n",
    "    \n",
    "    value_put_one_hedge_dg[mcs] = np.exp(-option_market_put.r*gbm.T)*(((option_market_put.price_option() - delta_0*gbm.trajectory[0] + N_call*option_market_1_gamma.price_option())*np.exp(option_market_put.r*gbm.T) + delta_0*gbm.trajectory[-1] - option_market_put.payoff() - N_call*option_market_1_gamma.payoff())/option_market_put.price_option())\n",
    "    \n",
    "    option_market_call = Option(K, gbm, \"call\")\n",
    "    option_market_2_gamma = Option(K_put, gbm, \"put\")\n",
    "    \n",
    "    N_put = -option_market_call.gamma()/option_market_2_gamma.gamma() \n",
    "    delta_0 = option_market_call.delta() + N_call*option_market_2_gamma.delta()\n",
    "    \n",
    "    value_call_one_hedge_dg[mcs] = np.exp(-option_market_call.r*gbm.T)*(((option_market_call.price_option() - delta_0*gbm.trajectory[0] + N_call*option_market_2_gamma.price_option())*np.exp(option_market_call.r*gbm.T) + delta_0*gbm.trajectory[-1] - option_market_call.payoff() - N_put*option_market_2_gamma.payoff())/option_market_call.price_option())\n",
    "    \n",
    "    "
   ]
  },
  {
   "cell_type": "code",
   "execution_count": 212,
   "metadata": {},
   "outputs": [
    {
     "data": {
      "text/plain": [
       "Text(0.5, 1.0, 'Call option one delta-gamma hedging')"
      ]
     },
     "execution_count": 212,
     "metadata": {},
     "output_type": "execute_result"
    },
    {
     "data": {
      "image/png": "[encoded data removed]",
      "text/plain": [
       "<Figure size 720x360 with 2 Axes>"
      ]
     },
     "metadata": {},
     "output_type": "display_data"
    }
   ],
   "source": [
    "fig, (ax1, ax2) = plt.subplots(1, 2, figsize=(10,5))\n",
    "ax1.hist(value_put_one_hedge_dg)\n",
    "ax1.set_xlabel(\"Money made/money spend discounted at time 0\")\n",
    "ax1.set_title(\"Put option one delta-gamma hedging\")\n",
    "\n",
    "ax2.hist(value_call_one_hedge_dg)\n",
    "ax2.set_xlabel(\"Money made/money spend discounted at time 0\")\n",
    "ax2.set_title(\"Call option one delta-gamma hedging\")"
   ]
  },
  {
   "cell_type": "code",
   "execution_count": 213,
   "metadata": {},
   "outputs": [
    {
     "name": "stdout",
     "output_type": "stream",
     "text": [
      "Mean for put: 0.0.\n",
      "Mean for call: 0.05.\n",
      "Variance for put: 0.0383.\n",
      "Variance for call: 0.0618.\n"
     ]
    }
   ],
   "source": [
    "print(f'Mean for put: {np.round(np.mean(value_put_one_hedge_dg), 2)}.\\nMean for call: {np.round(np.mean(value_call_one_hedge_dg), 2)}.')\n",
    "print(f'Variance for put: {np.round(np.var(value_put_one_hedge_dg), 4)}.\\nVariance for call: {np.round(np.var(value_call_one_hedge_dg), 4)}.')"
   ]
  },
  {
   "cell_type": "markdown",
   "metadata": {},
   "source": [
    "Althought delta-gamma hedging was applied only once, at $t=0$, variance has been drastically reduced (approximately $10$ times more than in a comparable scenario with only delta hedging)."
   ]
  },
  {
   "cell_type": "markdown",
   "metadata": {},
   "source": [
    "### Hedging at $t=0$ and $t=1$\n",
    "___________________"
   ]
  },
  {
   "cell_type": "code",
   "execution_count": 215,
   "metadata": {},
   "outputs": [],
   "source": [
    "#two hedgings\n",
    "\n",
    "K = 110\n",
    "K_call = 120\n",
    "K_put = 100\n",
    "\n",
    "r = 0.04\n",
    "\n",
    "value_put_two_hedge_dg = np.zeros(1000)\n",
    "value_call_two_hedge_dg = np.zeros(1000)\n",
    " \n",
    "for mcs in np.arange(1000):\n",
    "    \n",
    "    gbm = GBM(0.2, 0.04, 100)\n",
    "    \n",
    "    #put option\n",
    "    option_market_put = Option(K, gbm, \"put\")\n",
    "    option_market_1_gamma = Option(K_call, gbm, \"call\")\n",
    "    \n",
    "    N_call = -option_market_put.gamma()/option_market_1_gamma.gamma() #gamma_total = gamma_put + N*gamma_call = 0\n",
    "    delta_0 = option_market_put.delta() + N_call*option_market_1_gamma.delta()\n",
    "    \n",
    "    N_call2 = -option_market_put.gamma(1)/option_market_1_gamma.gamma(1)\n",
    "    delta_1 = option_market_put.delta(1) + N_call2*option_market_1_gamma.delta(1)\n",
    "    \n",
    "    assets_bought_compounded_put = delta_0*gbm.trajectory[0]*np.exp(r*gbm.T) + (delta_1 - delta_0)*gbm.trajectory[int(np.round(1/gbm.dt))]*np.exp(r*(gbm.T-1))\n",
    "    options_bought_compounded_put = N_call*option_market_1_gamma.price_option(0)*np.exp(r*gbm.T) + (N_call2 - N_call)*option_market_1_gamma.price_option(1)*np.exp(r*(gbm.T-1))\n",
    "    \n",
    "    value_put_two_hedge_dg[mcs] = np.exp(-option_market_put.r*gbm.T)*(((option_market_put.price_option())*np.exp(option_market_put.r*gbm.T) - assets_bought_compounded_put + options_bought_compounded_put + delta_1*gbm.trajectory[-1] - option_market_put.payoff() - N_call2*option_market_1_gamma.payoff())/option_market_put.price_option())\n",
    "    \n",
    "    #call option\n",
    "    option_market_call = Option(K, gbm, \"call\")\n",
    "    option_market_2_gamma = Option(K_put, gbm, \"put\")\n",
    "    \n",
    "    N_put = -option_market_call.gamma()/option_market_2_gamma.gamma() \n",
    "    delta_0_2 = option_market_call.delta() + N_put*option_market_2_gamma.delta()\n",
    "    \n",
    "    N_put2 = -option_market_call.gamma(1)/option_market_2_gamma.gamma(1) \n",
    "    delta_1_2 = option_market_call.delta(1) + N_put2*option_market_2_gamma.delta(1)\n",
    "    \n",
    "    assets_bought_compounded_call = delta_0_2*gbm.trajectory[0]*np.exp(r*gbm.T) + (delta_1_2 - delta_0_2)*gbm.trajectory[int(np.round(1/gbm.dt))]*np.exp(r*(gbm.T-1))\n",
    "    options_bought_compounded_call = N_put*option_market_2_gamma.price_option(0)*np.exp(r*gbm.T) + (N_put2 - N_put)*option_market_2_gamma.price_option(1)*np.exp(r*(gbm.T-1))\n",
    "    \n",
    "    value_call_two_hedge_dg[mcs] = np.exp(-option_market_call.r*gbm.T)*(((option_market_call.price_option())*np.exp(option_market_call.r*gbm.T) - assets_bought_compounded_call + options_bought_compounded_call + delta_1_2*gbm.trajectory[-1] - option_market_call.payoff() - N_put2*option_market_2_gamma.payoff())/option_market_call.price_option())\n",
    "    \n",
    "    "
   ]
  },
  {
   "cell_type": "code",
   "execution_count": 218,
   "metadata": {},
   "outputs": [
    {
     "data": {
      "text/plain": [
       "Text(0.5, 1.0, 'Call option two delta-gamma hedgings')"
      ]
     },
     "execution_count": 218,
     "metadata": {},
     "output_type": "execute_result"
    },
    {
     "data": {
      "image/png": "[encoded data removed]",
      "text/plain": [
       "<Figure size 720x360 with 2 Axes>"
      ]
     },
     "metadata": {},
     "output_type": "display_data"
    }
   ],
   "source": [
    "fig, (ax1, ax2) = plt.subplots(1, 2, figsize=(10,5))\n",
    "ax1.hist(value_put_two_hedge_dg)\n",
    "ax1.set_xlabel(\"Money made/money spent discounted at time 0\")\n",
    "ax1.set_title(\"Put option two delta-gamma hedgings\")\n",
    "\n",
    "ax2.hist(value_call_two_hedge_dg)\n",
    "ax2.set_xlabel(\"Money made/money spent discounted at time 0\")\n",
    "ax2.set_title(\"Call option two delta-gamma hedgings\")"
   ]
  },
  {
   "cell_type": "code",
   "execution_count": 217,
   "metadata": {},
   "outputs": [
    {
     "name": "stdout",
     "output_type": "stream",
     "text": [
      "Mean for put: 0.01.\n",
      "Mean for call: -0.0.\n",
      "Variance for put: 0.0308.\n",
      "Variance for call: 0.0448.\n"
     ]
    }
   ],
   "source": [
    "print(f'Mean for put: {np.round(np.mean(value_put_two_hedge_dg), 2)}.\\nMean for call: {np.round(np.mean(value_call_two_hedge_dg), 2)}.')\n",
    "print(f'Variance for put: {np.round(np.var(value_put_two_hedge_dg), 4)}.\\nVariance for call: {np.round(np.var(value_call_two_hedge_dg), 4)}.')"
   ]
  },
  {
   "cell_type": "markdown",
   "metadata": {},
   "source": [
    "After applying an additional hedging at $t=1$, the money made/money spent distribution became more concentrated around $0$."
   ]
  },
  {
   "cell_type": "markdown",
   "metadata": {},
   "source": [
    "### Continuous delta-gamma hedging\n",
    "---------------------------"
   ]
  },
  {
   "cell_type": "code",
   "execution_count": 170,
   "metadata": {},
   "outputs": [],
   "source": [
    "def delta_gamma_hedging_cont(mc_steps, K1, K2, option_type_1, option_type_2, mu, sigma, S0, dt=0.01, T=2, real_data=False):\n",
    "    \n",
    "    value_hedge_dg = np.zeros(mc_steps)\n",
    "    \n",
    "    for mc in np.arange(mc_steps):\n",
    "        \n",
    "        if not real_data:\n",
    "            gbm = GBM(sigma, mu, S0, dt=dt, T=T) \n",
    "        else:\n",
    "            gbm = RealData(historical_data[[\"Close\"]].iloc[-252:], mu)\n",
    "            \n",
    "        option_1 = Option(K1, gbm, option_type_1) #base option\n",
    "        option_2 = Option(K2, gbm, option_type_2) #option to sell or buy to have gamma neutral portfolio\n",
    "        \n",
    "        v0 = option_1.price_option(0)\n",
    "        N_0 = -option_1.gamma()/option_2.gamma() \n",
    "        delta_0 = option_1.delta() + N_0*option_2.delta()\n",
    "        \n",
    "        m0 = v0 - delta_0*gbm.trajectory[0] + N_0*option_2.price_option()\n",
    "        \n",
    "        delta_prev = delta_0\n",
    "        m_prev = m0\n",
    "        N_prev = N_0\n",
    "        \n",
    "        for i in np.arange(1, len(gbm.trajectory)):\n",
    "            \n",
    "            if option_2.gamma(i*dt) != 0:\n",
    "                N_t = -option_1.gamma(i*dt)/option_2.gamma(i*dt) #how many other options we should have sold to have neurtal gamma (N_T*gamma(2) + gamma(1) = 0)\n",
    "            else:\n",
    "                N_t = 0 #if division by zero, take zero\n",
    "                \n",
    "            delta_t = option_1.delta(i*dt) + N_t*option_2.delta(i*dt) #how many assets we should have in our portfolio to have neutral delta\n",
    "            \n",
    "            ut = delta_t - delta_prev #new assets to buy\n",
    "            wt = N_t - N_prev #new options to sell\n",
    "            mt = np.exp(r*dt)*m_prev - ut*gbm.trajectory[i] + wt*option_2.price_option(i*dt)\n",
    "            \n",
    "            m_prev = mt\n",
    "            delta_prev = delta_t\n",
    "            N_prev = N_t\n",
    "            \n",
    "        value_hedge_dg[mc] = np.exp(-r*gbm.T)*(mt - option_1.payoff() + delta_prev*gbm.trajectory[-1] - N_prev*option_2.payoff())/v0\n",
    "        \n",
    "    return value_hedge_dg"
   ]
  },
  {
   "cell_type": "code",
   "execution_count": 158,
   "metadata": {},
   "outputs": [],
   "source": [
    "put_values_dg = delta_gamma_hedging_cont(1000, 110, 120, \"put\", \"call\", 0.04, 0.2, 100, dt=0.01, T=2)\n",
    "call_values_dg = delta_gamma_hedging_cont(1000, 110, 100, \"call\", \"put\", 0.04, 0.2, 100, dt=0.01, T=2)"
   ]
  },
  {
   "cell_type": "code",
   "execution_count": 159,
   "metadata": {},
   "outputs": [
    {
     "data": {
      "text/plain": [
       "Text(0.5, 1.0, 'Call option hedgings continuously')"
      ]
     },
     "execution_count": 159,
     "metadata": {},
     "output_type": "execute_result"
    },
    {
     "data": {
      "image/png": "[encoded data removed]",
      "text/plain": [
       "<Figure size 720x360 with 2 Axes>"
      ]
     },
     "metadata": {},
     "output_type": "display_data"
    }
   ],
   "source": [
    "fig, (ax1, ax2) = plt.subplots(1, 2, figsize=(10,5))\n",
    "ax1.hist(put_values_dg)\n",
    "ax1.set_xlabel(\"Money made/money spend discounted at time 0\")\n",
    "ax1.set_title(\"Put option hedgings continuously\")\n",
    "\n",
    "ax2.hist(call_values_dg)\n",
    "ax2.set_xlabel(\"Money made/money spend discounted at time 0\")\n",
    "ax2.set_title(\"Call option hedgings continuously\")"
   ]
  },
  {
   "cell_type": "code",
   "execution_count": 165,
   "metadata": {},
   "outputs": [
    {
     "name": "stdout",
     "output_type": "stream",
     "text": [
      "Mean for put: 0.0.\n",
      "Mean for call: 0.0.\n",
      "Variance for put: 0.0004.\n",
      "Variance for call: 0.0005.\n"
     ]
    }
   ],
   "source": [
    "print(f'Mean for put: {np.round(np.mean(put_values_dg), 2)}.\\nMean for call: {np.round(np.mean(call_values_dg), 2)}.')\n",
    "print(f'Variance for put: {np.round(np.var(put_values_dg), 4)}.\\nVariance for call: {np.round(np.var(call_values_dg), 4)}.')"
   ]
  },
  {
   "cell_type": "markdown",
   "metadata": {},
   "source": [
    "After applying delta-gamma hedging at each step of the geometric Brownian motion, the distribution becomes highly concentrated around zero, with both variance and mean close to zero. Maximum gain and loss id approximately 10%."
   ]
  },
  {
   "cell_type": "markdown",
   "metadata": {},
   "source": [
    "### Delta-gamma hedging for real assets\n",
    "------------------"
   ]
  },
  {
   "cell_type": "code",
   "execution_count": 168,
   "metadata": {},
   "outputs": [
    {
     "name": "stdout",
     "output_type": "stream",
     "text": [
      "Volatility of the asset: 0.36.\n"
     ]
    }
   ],
   "source": [
    "kgh_stock = yf.Ticker('KGH.WA')\n",
    "historical_data = kgh_stock.history(period=\"2y\")\n",
    "\n",
    "df = RealData(historical_data[[\"Close\"]].iloc[-252:], 0.03)\n",
    "print(f'Volatility of the asset: {np.round(df.sigma,2)}.')"
   ]
  },
  {
   "cell_type": "code",
   "execution_count": 169,
   "metadata": {},
   "outputs": [
    {
     "data": {
      "image/png": "[encoded data removed]",
      "text/plain": [
       "<Figure size 432x288 with 1 Axes>"
      ]
     },
     "metadata": {},
     "output_type": "display_data"
    }
   ],
   "source": [
    "df.plot()"
   ]
  },
  {
   "cell_type": "markdown",
   "metadata": {},
   "source": [
    "#### Portfolio with no hedging"
   ]
  },
  {
   "cell_type": "code",
   "execution_count": 179,
   "metadata": {},
   "outputs": [],
   "source": [
    "#no hedging\n",
    "\n",
    "K = 110\n",
    "r = 0.03\n",
    "gbm = df\n",
    "    \n",
    "option_market_put = Option(K, gbm, \"put\")\n",
    "put_no_hedge = np.exp(-option_market_put.r*gbm.T)*(((option_market_put.price_option())*np.exp(option_market_put.r*gbm.T) - option_market_put.payoff())/option_market_put.price_option())\n",
    "    \n",
    "option_market_call = Option(K, gbm, \"call\")\n",
    "call_no_hedge = np.exp(-option_market_call.r*gbm.T)*(((option_market_call.price_option())*np.exp(option_market_call.r*gbm.T) - option_market_call.payoff())/option_market_call.price_option())"
   ]
  },
  {
   "cell_type": "code",
   "execution_count": 186,
   "metadata": {},
   "outputs": [
    {
     "name": "stdout",
     "output_type": "stream",
     "text": [
      "Money made/money spent for put option with K = 110: 1.0.\n"
     ]
    }
   ],
   "source": [
    "print(f'Money made/money spent for put option with K = 110: {np.round(put_no_hedge, 2)}.') #payoff is zero, so we get option price"
   ]
  },
  {
   "cell_type": "code",
   "execution_count": 187,
   "metadata": {},
   "outputs": [
    {
     "name": "stdout",
     "output_type": "stream",
     "text": [
      "Money made/money spent for call option with K = 110: -1.66.\n"
     ]
    }
   ],
   "source": [
    "print(f'Money made/money spent for call option with K = 110: {np.round(call_no_hedge, 2)}.')"
   ]
  },
  {
   "cell_type": "markdown",
   "metadata": {},
   "source": [
    "#### Values with continuos delta-gamma hedging\n"
   ]
  },
  {
   "cell_type": "code",
   "execution_count": 176,
   "metadata": {},
   "outputs": [],
   "source": [
    "put_values_dg = delta_gamma_hedging_cont(1, 120, 130, \"put\", \"call\", 0.04, 0.2, 100, dt=df.dt, T=1, real_data=True)\n",
    "call_values_dg = delta_gamma_hedging_cont(1, 120, 110, \"call\", \"put\", 0.04, 0.2, 100, dt=df.dt, T=1, real_data=True)"
   ]
  },
  {
   "cell_type": "code",
   "execution_count": 189,
   "metadata": {},
   "outputs": [
    {
     "name": "stdout",
     "output_type": "stream",
     "text": [
      "Money made/money spent for put option with K = 110 and delta-gamma hedging: 0.0.\n"
     ]
    }
   ],
   "source": [
    "print(f'Money made/money spent for put option with K = 110 and delta-gamma hedging: {np.round(put_values_dg[0], 2)}.')"
   ]
  },
  {
   "cell_type": "code",
   "execution_count": 190,
   "metadata": {},
   "outputs": [
    {
     "name": "stdout",
     "output_type": "stream",
     "text": [
      "Money made/money spent for call option with K = 110 and delta-gamma hedging: -0.0.\n"
     ]
    }
   ],
   "source": [
    "print(f'Money made/money spent for call option with K = 110 and delta-gamma hedging: {np.round(call_values_dg[0], 2)}.')"
   ]
  },
  {
   "cell_type": "markdown",
   "metadata": {},
   "source": [
    "The values are close to zero, indicating that delta-gamma hedging is performing as expected."
   ]
  }
 ],
 "metadata": {
  "kernelspec": {
   "display_name": "Python 3",
   "language": "python",
   "name": "python3"
  },
  "language_info": {
   "codemirror_mode": {
    "name": "ipython",
    "version": 3
   },
   "file_extension": ".py",
   "mimetype": "text/x-python",
   "name": "python",
   "nbconvert_exporter": "python",
   "pygments_lexer": "ipython3",
   "version": "3.10.0"
  }
 },
 "nbformat": 4,
 "nbformat_minor": 2
}
